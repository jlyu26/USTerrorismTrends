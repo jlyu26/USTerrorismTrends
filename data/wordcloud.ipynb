{
 "cells": [
  {
   "cell_type": "code",
   "execution_count": 1,
   "metadata": {
    "collapsed": true
   },
   "outputs": [],
   "source": [
    "\n",
    "import os\n",
    "os.getcwd()\n",
    "os.chdir(\"F:\\\\\")\n",
    "\n",
    "from wordcloud import WordCloud, STOPWORDS\n",
    "import matplotlib.pyplot as plt\n",
    "import pandas as pd\n",
    "\n",
    "\n",
    "data=pd.read_csv(\"dataset.csv\")\n",
    "data0=data['motive']\n",
    "data1=data0.dropna()\n",
    "\n",
    "words=''\n",
    "for e in data1:\n",
    "    words+=e\n",
    "\n",
    "    \n",
    "    \n",
    "    stopwords = set(STOPWORDS)\n",
    "stopwords.add(\"attack\")\n",
    "stopwords.add(\"attacks\")\n",
    "stopwords.add(\"motive\")\n",
    "stopwords.add(\"unknown\")\n",
    "stopwords.add(\"specific\")\n",
    "stopwords.add(\"however\")\n",
    "\n",
    "from wordcloud import WordCloud, STOPWORDS, ImageColorGenerator\n",
    "from os import path\n",
    "from PIL import Image\n",
    "import numpy as np\n",
    "\n",
    "d = path.dirname('.')\n",
    "\n",
    "mask = np.array(Image.open(path.join(d, \"mask1.png\")))\n",
    "\n"
   ]
  },
  {
   "cell_type": "code",
   "execution_count": 18,
   "metadata": {
    "collapsed": false
   },
   "outputs": [],
   "source": [
    "\n",
    "\n",
    "plt.imshow(wordcloud)\n",
    "\n",
    "plt.axis('off')\n",
    "plt.show()"
   ]
  },
  {
   "cell_type": "code",
   "execution_count": 20,
   "metadata": {
    "collapsed": false
   },
   "outputs": [
    {
     "data": {
      "text/plain": [
       "<wordcloud.wordcloud.WordCloud at 0x69d6750>"
      ]
     },
     "execution_count": 20,
     "metadata": {},
     "output_type": "execute_result"
    }
   ],
   "source": [
    "wordcloud = WordCloud(#font_path='/Users/kunal/Library/Fonts/sans-serif.ttf',\n",
    "                  #        stopwords=STOPWORDS, background_color='white'\n",
    "    mask=mask,\n",
    "                         stopwords=stopwords,max_font_size=40,scale=1,max_words=1000\n",
    "                         \n",
    "                        )\n",
    "wordcloud.generate(words)"
   ]
  },
  {
   "cell_type": "code",
   "execution_count": null,
   "metadata": {
    "collapsed": false
   },
   "outputs": [],
   "source": [
    "import random\n",
    "def grey_color_func(word, font_size, position, orientation, random_state=None, **kwargs):\n",
    "    return \"hsl(0, 0%%, %d%%)\" % random.randint(60, 100)\n",
    "\n",
    "\n",
    "image_colors = ImageColorGenerator(mask)\n",
    "plt.imshow(wordcloud.recolor(color_func=grey_color_func, random_state=3))\n",
    "\n",
    "#plt.imshow(wordcloud.recolor(color_func=image_colors))\n",
    "plt.axis(\"off\")\n",
    "plt.figure()\n",
    "plt.show()"
   ]
  },
  {
   "cell_type": "code",
   "execution_count": 12,
   "metadata": {
    "collapsed": true
   },
   "outputs": [],
   "source": []
  },
  {
   "cell_type": "code",
   "execution_count": 6,
   "metadata": {
    "collapsed": false
   },
   "outputs": [
    {
     "data": {
      "text/plain": [
       "<matplotlib.figure.Figure at 0x9d2ba90>"
      ]
     },
     "execution_count": 6,
     "metadata": {},
     "output_type": "execute_result"
    }
   ],
   "source": [
    "color=np.array(Image.open(path.join(d, \"mask1.png\")))\n",
    "image_colors=ImageColorGenerator(color)\n",
    "plt.imshow(wordcloud.recolor(color_func=image_colors))\n",
    "plt.axis(\"off\")\n",
    "plt.figure()"
   ]
  }
 ],
 "metadata": {
  "kernelspec": {
   "display_name": "Python [Root]",
   "language": "python",
   "name": "Python [Root]"
  },
  "language_info": {
   "codemirror_mode": {
    "name": "ipython",
    "version": 3
   },
   "file_extension": ".py",
   "mimetype": "text/x-python",
   "name": "python",
   "nbconvert_exporter": "python",
   "pygments_lexer": "ipython3",
   "version": "3.5.2"
  }
 },
 "nbformat": 4,
 "nbformat_minor": 0
}
